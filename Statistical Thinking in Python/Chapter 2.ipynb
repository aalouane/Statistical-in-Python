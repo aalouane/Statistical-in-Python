{
 "cells": [
  {
   "cell_type": "markdown",
   "id": "43306d82",
   "metadata": {},
   "source": [
    "# Chapter 2 : Quantitative Exploratory Data Analysis\n",
    "\n",
    "In this chapter, you will compute useful summary statistics, which serve to concisely describe salient features of a dataset with a few numbers."
   ]
  },
  {
   "cell_type": "code",
   "execution_count": 29,
   "id": "ecf243b9",
   "metadata": {},
   "outputs": [
    {
     "name": "stdout",
     "output_type": "stream",
     "text": [
      "   Id  SepalLengthCm  SepalWidthCm  PetalLengthCm  PetalWidthCm      Species\n",
      "0   1            5.1           3.5            1.4           0.2  Iris-setosa\n",
      "1   2            4.9           3.0            1.4           0.2  Iris-setosa\n",
      "2   3            4.7           3.2            1.3           0.2  Iris-setosa\n",
      "3   4            4.6           3.1            1.5           0.2  Iris-setosa\n",
      "4   5            5.0           3.6            1.4           0.2  Iris-setosa\n"
     ]
    },
    {
     "data": {
      "text/plain": [
       "50    4.7\n",
       "51    4.5\n",
       "52    4.9\n",
       "53    4.0\n",
       "54    4.6\n",
       "Name: PetalLengthCm, dtype: float64"
      ]
     },
     "execution_count": 29,
     "metadata": {},
     "output_type": "execute_result"
    }
   ],
   "source": [
    "import pandas as pd\n",
    "import numpy as np\n",
    "import matplotlib.pyplot as plt\n",
    "import seaborn as sns\n",
    "\n",
    "\n",
    "iris = pd.read_csv('iris.csv')\n",
    "print(iris.head())\n",
    "\n",
    "versicolor_petal_length = iris[iris['Species'] == 'Iris-versicolor']['PetalLengthCm']\n",
    "versicolor_petal_length.head()"
   ]
  },
  {
   "cell_type": "code",
   "execution_count": 30,
   "id": "681d02b1",
   "metadata": {},
   "outputs": [
    {
     "name": "stdout",
     "output_type": "stream",
     "text": [
      "I. The versicolor mean: 4.26 cm\n",
      "I. The versicolor median : 4.35 cm\n"
     ]
    }
   ],
   "source": [
    "# Compute the mean: mean_length_vers\n",
    "mean_length_vers = versicolor_petal_length.mean()\n",
    "\n",
    "# Compute the mean: mean_length_vers\n",
    "median_length_vers = versicolor_petal_length.median()\n",
    "\n",
    "# Print the result with some nice formatting\n",
    "print('I. The versicolor mean:', mean_length_vers, 'cm')\n",
    "print('I. The versicolor median :', median_length_vers, 'cm')"
   ]
  },
  {
   "cell_type": "markdown",
   "id": "6f8a5d9e",
   "metadata": {},
   "source": [
    "### Computing percentiles"
   ]
  },
  {
   "cell_type": "code",
   "execution_count": 31,
   "id": "8531987a",
   "metadata": {},
   "outputs": [
    {
     "name": "stdout",
     "output_type": "stream",
     "text": [
      "[3.3    4.     4.35   4.6    4.9775]\n"
     ]
    }
   ],
   "source": [
    "# Specify array of percentiles: percentiles\n",
    "percentiles = np.array([2.5, 25, 50, 75, 97.5])\n",
    "\n",
    "# Compute percentiles: ptiles_vers\n",
    "ptiles_vers = np.percentile(versicolor_petal_length, percentiles)\n",
    "\n",
    "# Print the result\n",
    "print(ptiles_vers)"
   ]
  },
  {
   "cell_type": "markdown",
   "id": "757a5be1",
   "metadata": {},
   "source": [
    "### Comparing percentiles to ECDF"
   ]
  },
  {
   "cell_type": "code",
   "execution_count": 32,
   "id": "202015f7",
   "metadata": {},
   "outputs": [],
   "source": [
    "def ecdf(data):\n",
    "    \"\"\"Compute ECDF for a one-dimensional array of measurements.\"\"\"\n",
    "    # Number of data points: n\n",
    "    n = len(data)\n",
    "\n",
    "    # x-data for the ECDF: x\n",
    "    x = np.sort(data)\n",
    "\n",
    "    # y-data for the ECDF: y\n",
    "    y = np.arange(1, n+1) / n\n",
    "\n",
    "    return x, y\n",
    "\n",
    "versicolor_petal_length = iris['PetalLengthCm']\n",
    "# Compute ECDF for versicolor data: x_vers, y_vers\n",
    "x_vers, y_vers = ecdf(versicolor_petal_length)"
   ]
  },
  {
   "cell_type": "code",
   "execution_count": 33,
   "id": "32ed8d5a",
   "metadata": {},
   "outputs": [
    {
     "data": {
      "image/png": "[encoded data removed]",
      "text/plain": [
       "<Figure size 432x288 with 1 Axes>"
      ]
     },
     "metadata": {
      "needs_background": "light"
     },
     "output_type": "display_data"
    }
   ],
   "source": [
    "# Plot the ECDF\n",
    "_ = plt.plot(x_vers, y_vers, '.')\n",
    "_ = plt.xlabel('petal length (cm)')\n",
    "_ = plt.ylabel('ECDF')\n",
    "\n",
    "# Overlay percentiles as red diamonds.\n",
    "_ = plt.plot(ptiles_vers, percentiles/100, marker='D', color='red',\n",
    "         linestyle='none')\n",
    "\n",
    "# Show the plot\n",
    "\n",
    "_ = plt.show()"
   ]
  },
  {
   "cell_type": "markdown",
   "id": "ede12c5c",
   "metadata": {},
   "source": [
    "## Box-and-whisker plot"
   ]
  },
  {
   "cell_type": "code",
   "execution_count": 36,
   "id": "f02d677b",
   "metadata": {},
   "outputs": [
    {
     "data": {
      "image/png": "[encoded data removed]",
      "text/plain": [
       "<Figure size 432x288 with 1 Axes>"
      ]
     },
     "metadata": {
      "needs_background": "light"
     },
     "output_type": "display_data"
    }
   ],
   "source": [
    "# Create box plot with Seaborn's default settings\n",
    "_ = sns.boxplot(x='Species', y='PetalLengthCm', data=iris)\n",
    "\n",
    "# Label the axes\n",
    "_ = plt.xlabel('region')\n",
    "_ = plt.ylabel('percent of vote for Obama')\n",
    "\n",
    "\n",
    "# Show the plot\n",
    "plt.show()"
   ]
  },
  {
   "cell_type": "markdown",
   "id": "08fcdbe3",
   "metadata": {},
   "source": [
    "## Computing the variance"
   ]
  },
  {
   "cell_type": "code",
   "execution_count": 48,
   "id": "de33ddb7",
   "metadata": {},
   "outputs": [
    {
     "name": "stdout",
     "output_type": "stream",
     "text": [
      "0.2721000000000001 0.2721000000000001\n"
     ]
    }
   ],
   "source": [
    "versicolor_petal_length = versicolor_petal_length.sort_values(ascending=False).head(50)\n",
    "# Array of differences to mean: differences\n",
    "differences = versicolor_petal_length - versicolor_petal_length.mean()\n",
    "\n",
    "# Square the differences: diff_sq\n",
    "diff_sq = differences**2\n",
    "\n",
    "# Compute the mean square difference: variance_explicit\n",
    "variance_explicit = diff_sq.mean()\n",
    "\n",
    "# Compute the variance using NumPy: variance_np\n",
    "variance_np = np.var(versicolor_petal_length)\n",
    "\n",
    "# Print the results\n",
    "print(variance_np, variance_explicit)\n"
   ]
  },
  {
   "cell_type": "markdown",
   "id": "fda3eaec",
   "metadata": {},
   "source": [
    "### The standard deviation and the variance\n",
    "\n",
    " the standard deviation is the square root of the variance."
   ]
  },
  {
   "cell_type": "code",
   "execution_count": 47,
   "id": "941768f1",
   "metadata": {},
   "outputs": [
    {
     "name": "stdout",
     "output_type": "stream",
     "text": [
      "0.5216320542297992\n",
      "0.5216320542297992\n"
     ]
    }
   ],
   "source": [
    "# Compute the variance: variance\n",
    "variance = np.var(versicolor_petal_length)\n",
    "\n",
    "# Print the square root of the variance\n",
    "print(np.sqrt(variance))\n",
    "\n",
    "# Print the standard deviation\n",
    "print(np.std(versicolor_petal_length))"
   ]
  },
  {
   "cell_type": "markdown",
   "id": "c9c20452",
   "metadata": {},
   "source": [
    "## Covariance and the Pearson correlation coefficient"
   ]
  },
  {
   "cell_type": "markdown",
   "id": "763d31ee",
   "metadata": {},
   "source": [
    "### Scatter plots\n",
    "\n",
    "When you made bee swarm plots, box plots, and ECDF plots in previous exercises, you compared the petal lengths of different species of iris. But what if you want to compare two properties of a single species? This is exactly what we will do in this exercise. We will make a scatter plot of the petal length and width measurements of Anderson's Iris versicolor flowers."
   ]
  },
  {
   "cell_type": "code",
   "execution_count": 50,
   "id": "4c3dbe73",
   "metadata": {},
   "outputs": [
    {
     "data": {
      "image/png": "[encoded data removed]",
      "text/plain": [
       "<Figure size 432x288 with 1 Axes>"
      ]
     },
     "metadata": {
      "needs_background": "light"
     },
     "output_type": "display_data"
    }
   ],
   "source": [
    "versicolor_petal_length = iris[iris['Species'] == 'Iris-versicolor']['PetalLengthCm']\n",
    "versicolor_petal_width = iris[iris['Species'] == 'Iris-versicolor']['PetalWidthCm']\n",
    "# Make a scatter plot\n",
    "_ = plt.plot(versicolor_petal_length, versicolor_petal_width, marker='.', linestyle='none')\n",
    "\n",
    "\n",
    "# Label the axes\n",
    "_= plt.xlabel('versicolor petal length')\n",
    "_= plt.ylabel('petal width length')\n",
    "\n",
    "\n",
    "# Show the result\n",
    "_= plt.show()"
   ]
  },
  {
   "cell_type": "markdown",
   "id": "a38a6b2d",
   "metadata": {},
   "source": [
    "### Computing the covariance\n",
    "\n",
    "The covariance may be computed using the Numpy function np.cov(). For example, we have two sets of data x and y, np.cov(x, y) returns a 2D array where entries [0,1] and [1,0] are the covariances. Entry [0,0] is the variance of the data in x, and entry [1,1] is the variance of the data in y."
   ]
  },
  {
   "cell_type": "code",
   "execution_count": 52,
   "id": "d9d398d2",
   "metadata": {},
   "outputs": [
    {
     "name": "stdout",
     "output_type": "stream",
     "text": [
      "[[0.22081633 0.07310204]\n",
      " [0.07310204 0.03910612]]\n",
      "The covariance is :  0.07310204081632653\n"
     ]
    }
   ],
   "source": [
    "# Compute the covariance matrix: covariance_matrix\n",
    "covariance_matrix = np.cov(versicolor_petal_length, versicolor_petal_width)\n",
    "\n",
    "# Print covariance matrix\n",
    "print(covariance_matrix)\n",
    "\n",
    "# Extract covariance of length and width of petals: petal_cov\n",
    "petal_cov = covariance_matrix[0,1]\n",
    "\n",
    "# Print the length/width covariance\n",
    "print(\"The covariance is : \", petal_cov)"
   ]
  },
  {
   "cell_type": "markdown",
   "id": "0e8a217a",
   "metadata": {},
   "source": [
    "### Computing the Pearson correlation coefficient\n",
    "\n",
    "As mentioned in the video, the Pearson correlation coefficient, also called the Pearson r, is often easier to interpret than the covariance. It is computed using the np.corrcoef() function. Like np.cov(), it takes two arrays as arguments and returns a 2D array. Entries [0,0] and [1,1] are necessarily equal to 1 (can you think about why?), and the value we are after is entry [0,1]."
   ]
  },
  {
   "cell_type": "code",
   "execution_count": null,
   "id": "76c57224",
   "metadata": {},
   "outputs": [],
   "source": []
  }
 ],
 "metadata": {
  "kernelspec": {
   "display_name": "Python 3 (ipykernel)",
   "language": "python",
   "name": "python3"
  },
  "language_info": {
   "codemirror_mode": {
    "name": "ipython",
    "version": 3
   },
   "file_extension": ".py",
   "mimetype": "text/x-python",
   "name": "python",
   "nbconvert_exporter": "python",
   "pygments_lexer": "ipython3",
   "version": "3.9.12"
  }
 },
 "nbformat": 4,
 "nbformat_minor": 5
}
