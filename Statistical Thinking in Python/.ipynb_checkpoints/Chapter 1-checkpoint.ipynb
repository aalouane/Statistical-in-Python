{
 "cells": [
  {
   "cell_type": "markdown",
   "id": "93946595",
   "metadata": {},
   "source": [
    "# Chapter 1 : Graphical Exploratory Data Analysis\n",
    "\n",
    "Before diving into sophisticated statistical inference techniques, you should first explore your data by plotting them and computing simple summary statistics. This process, called exploratory data analysis, is a crucial first step in statistical analysis of data."
   ]
  },
  {
   "cell_type": "markdown",
   "id": "226ae6c3",
   "metadata": {},
   "source": [
    "## 1. Plotting a histogram of iris data\n",
    "\n",
    "For the exercises in this section, you will use a classic data set collected by botanist Edward Anderson and made famous by Ronald Fisher, one of the most prolific statisticians in history. Anderson carefully measured the anatomical properties of samples of three different species of iris, Iris setosa, Iris versicolor, and Iris virginica. The full data set is available as part of scikit-learn. Here, you will work with his measurements of petal length.\n",
    "\n",
    "Plot a histogram of the petal lengths of his 50 samples of Iris versicolor using matplotlib/seaborn's default settings. Recall that to specify the default seaborn style, you can use sns.set(), where sns is the alias that seaborn is imported as."
   ]
  },
  {
   "cell_type": "code",
   "execution_count": 38,
   "id": "38ab5821",
   "metadata": {},
   "outputs": [
    {
     "name": "stdout",
     "output_type": "stream",
     "text": [
      "<class 'sklearn.utils.Bunch'>\n",
      "<class 'pandas.core.frame.DataFrame'>\n"
     ]
    },
    {
     "data": {
      "text/html": [
       "<div>\n",
       "<style scoped>\n",
       "    .dataframe tbody tr th:only-of-type {\n",
       "        vertical-align: middle;\n",
       "    }\n",
       "\n",
       "    .dataframe tbody tr th {\n",
       "        vertical-align: top;\n",
       "    }\n",
       "\n",
       "    .dataframe thead th {\n",
       "        text-align: right;\n",
       "    }\n",
       "</style>\n",
       "<table border=\"1\" class=\"dataframe\">\n",
       "  <thead>\n",
       "    <tr style=\"text-align: right;\">\n",
       "      <th></th>\n",
       "      <th>sepal length (cm)</th>\n",
       "      <th>sepal width (cm)</th>\n",
       "      <th>petal length (cm)</th>\n",
       "      <th>petal width (cm)</th>\n",
       "      <th>target</th>\n",
       "    </tr>\n",
       "  </thead>\n",
       "  <tbody>\n",
       "    <tr>\n",
       "      <th>0</th>\n",
       "      <td>5.1</td>\n",
       "      <td>3.5</td>\n",
       "      <td>1.4</td>\n",
       "      <td>0.2</td>\n",
       "      <td>0.0</td>\n",
       "    </tr>\n",
       "    <tr>\n",
       "      <th>1</th>\n",
       "      <td>4.9</td>\n",
       "      <td>3.0</td>\n",
       "      <td>1.4</td>\n",
       "      <td>0.2</td>\n",
       "      <td>0.0</td>\n",
       "    </tr>\n",
       "    <tr>\n",
       "      <th>2</th>\n",
       "      <td>4.7</td>\n",
       "      <td>3.2</td>\n",
       "      <td>1.3</td>\n",
       "      <td>0.2</td>\n",
       "      <td>0.0</td>\n",
       "    </tr>\n",
       "    <tr>\n",
       "      <th>3</th>\n",
       "      <td>4.6</td>\n",
       "      <td>3.1</td>\n",
       "      <td>1.5</td>\n",
       "      <td>0.2</td>\n",
       "      <td>0.0</td>\n",
       "    </tr>\n",
       "    <tr>\n",
       "      <th>4</th>\n",
       "      <td>5.0</td>\n",
       "      <td>3.6</td>\n",
       "      <td>1.4</td>\n",
       "      <td>0.2</td>\n",
       "      <td>0.0</td>\n",
       "    </tr>\n",
       "  </tbody>\n",
       "</table>\n",
       "</div>"
      ],
      "text/plain": [
       "   sepal length (cm)  sepal width (cm)  petal length (cm)  petal width (cm)  \\\n",
       "0                5.1               3.5                1.4               0.2   \n",
       "1                4.9               3.0                1.4               0.2   \n",
       "2                4.7               3.2                1.3               0.2   \n",
       "3                4.6               3.1                1.5               0.2   \n",
       "4                5.0               3.6                1.4               0.2   \n",
       "\n",
       "   target  \n",
       "0     0.0  \n",
       "1     0.0  \n",
       "2     0.0  \n",
       "3     0.0  \n",
       "4     0.0  "
      ]
     },
     "execution_count": 38,
     "metadata": {},
     "output_type": "execute_result"
    }
   ],
   "source": [
    "import matplotlib.pyplot as plt\n",
    "import seaborn as sns\n",
    "import pandas as pd\n",
    "import numpy as np\n",
    "from sklearn.datasets import load_iris\n",
    "\n",
    "iris = load_iris()\n",
    "iris_pd = pd.DataFrame(data= np.c_[iris['data'], iris['target']],\n",
    "                     columns= iris['feature_names'] + ['target'])\n",
    "\n",
    "print(type(iris))\n",
    "print(type(iris_pd))\n",
    "iris_pd.head()"
   ]
  },
  {
   "cell_type": "code",
   "execution_count": 39,
   "id": "a285ddcc",
   "metadata": {},
   "outputs": [
    {
     "data": {
      "image/png": "[encoded data removed]",
      "text/plain": [
       "<Figure size 432x288 with 1 Axes>"
      ]
     },
     "metadata": {},
     "output_type": "display_data"
    }
   ],
   "source": [
    "sns.set()\n",
    "versicolor_petal_length = iris_pd['petal length (cm)']\n",
    "_= plt.hist(versicolor_petal_length, bins=12)\n",
    "\n",
    "plt.ylabel(\"count\")\n",
    "plt.xlabel(\"Petal length (cm)\")\n",
    "\n",
    "plt.show()"
   ]
  },
  {
   "cell_type": "markdown",
   "id": "40686387",
   "metadata": {},
   "source": [
    "### Adjusting the number of bins in a histogram\n",
    "\n",
    "The histogram you just made had ten bins. This is the default of matplotlib. The \"square root rule\" is a commonly-used rule of thumb for choosing number of bins: choose the number of bins to be the square root of the number of samples. Plot the histogram of Iris versicolor petal lengths again, this time using the square root rule for the number of bins. You specify the number of bins using the bins keyword argument of plt.hist()."
   ]
  },
  {
   "cell_type": "code",
   "execution_count": 40,
   "id": "3568a5e1",
   "metadata": {},
   "outputs": [
    {
     "data": {
      "image/png": "[encoded data removed]",
      "text/plain": [
       "<Figure size 432x288 with 1 Axes>"
      ]
     },
     "metadata": {},
     "output_type": "display_data"
    }
   ],
   "source": [
    "n_data = len(versicolor_petal_length)\n",
    "\n",
    "n_bins = np.sqrt(n_data)\n",
    "n_bins = int(n_bins)\n",
    "\n",
    "_ = plt.hist(versicolor_petal_length, bins=n_bins)\n",
    "\n",
    "_ = plt.ylabel(\"count\")\n",
    "_ = plt.xlabel(\"Petal length (cm)\")\n",
    "\n",
    "plt.show()"
   ]
  },
  {
   "cell_type": "markdown",
   "id": "9adb4b92",
   "metadata": {},
   "source": [
    "## 2. Bee swarm plot"
   ]
  },
  {
   "cell_type": "code",
   "execution_count": 41,
   "id": "a965683c",
   "metadata": {},
   "outputs": [],
   "source": [
    "iris = pd.read_csv('Iris.csv')"
   ]
  },
  {
   "cell_type": "code",
   "execution_count": 42,
   "id": "7200e24b",
   "metadata": {},
   "outputs": [
    {
     "name": "stderr",
     "output_type": "stream",
     "text": [
      "C:\\ProgramData\\Anaconda3\\lib\\site-packages\\seaborn\\categorical.py:1296: UserWarning: 14.0% of the points cannot be placed; you may want to decrease the size of the markers or use stripplot.\n",
      "  warnings.warn(msg, UserWarning)\n"
     ]
    },
    {
     "data": {
      "image/png": "[encoded data removed]",
      "text/plain": [
       "<Figure size 432x288 with 1 Axes>"
      ]
     },
     "metadata": {},
     "output_type": "display_data"
    }
   ],
   "source": [
    "_ = sns.swarmplot(x='Species', y='PetalLengthCm', data=iris)\n",
    "_ = plt.xlabel('Species')\n",
    "_ = plt.ylabel('PetalLengthCm')\n",
    "\n",
    "_ = plt.show()"
   ]
  },
  {
   "cell_type": "markdown",
   "id": "6cd96f2a",
   "metadata": {},
   "source": [
    "### Interpreting a bee swarm plot\n",
    "\n",
    "    virginica petals tend to be the longest, and I. setosa petals tend to be the shortest of the three species."
   ]
  },
  {
   "cell_type": "markdown",
   "id": "a321fec8",
   "metadata": {},
   "source": [
    "## 3. Empirical Cumulative Distribution Function (ECDF)"
   ]
  },
  {
   "cell_type": "code",
   "execution_count": 43,
   "id": "1ac68299",
   "metadata": {},
   "outputs": [],
   "source": [
    "def ecdf(data):\n",
    "    \"\"\"Compute ECDF for a one-dimensional array of measurements.\"\"\"\n",
    "    # Number of data points: n\n",
    "    n = len(data)\n",
    "\n",
    "    # x-data for the ECDF: x\n",
    "    x = np.sort(data)\n",
    "\n",
    "    # y-data for the ECDF: y\n",
    "    y = np.arange(1, n+1) / n\n",
    "\n",
    "    return x, y"
   ]
  },
  {
   "cell_type": "code",
   "execution_count": 44,
   "id": "a27fd86d",
   "metadata": {},
   "outputs": [
    {
     "data": {
      "image/png": "[encoded data removed]",
      "text/plain": [
       "<Figure size 432x288 with 1 Axes>"
      ]
     },
     "metadata": {},
     "output_type": "display_data"
    }
   ],
   "source": [
    "versicolor_petal_length = iris['PetalLengthCm']\n",
    "# Compute ECDF for versicolor data: x_vers, y_vers\n",
    "x_vers, y_vers = ecdf(versicolor_petal_length)\n",
    "\n",
    "# Generate plot\n",
    "_ = plt.plot(x_vers, y_vers, marker='.', linestyle='none')\n",
    "\n",
    "# Label the axes\n",
    "_ = plt.xlabel('Petal length cm')\n",
    "_ = plt.ylabel('ECDF')\n",
    "\n",
    "# Display the plot\n",
    "_ = plt.show()\n"
   ]
  },
  {
   "cell_type": "markdown",
   "id": "24f609d6",
   "metadata": {},
   "source": [
    "### Comparison of ECDFs"
   ]
  },
  {
   "cell_type": "code",
   "execution_count": 45,
   "id": "cf8885d5",
   "metadata": {},
   "outputs": [
    {
     "name": "stdout",
     "output_type": "stream",
     "text": [
      "{'Iris-versicolor', 'Iris-setosa', 'Iris-virginica'}\n",
      "   Id  SepalLengthCm  SepalWidthCm  PetalLengthCm  PetalWidthCm      Species\n",
      "0   1            5.1           3.5            1.4           0.2  Iris-setosa\n",
      "1   2            4.9           3.0            1.4           0.2  Iris-setosa\n",
      "2   3            4.7           3.2            1.3           0.2  Iris-setosa\n",
      "3   4            4.6           3.1            1.5           0.2  Iris-setosa\n",
      "4   5            5.0           3.6            1.4           0.2  Iris-setosa\n"
     ]
    },
    {
     "data": {
      "text/plain": [
       "100    6.0\n",
       "101    5.1\n",
       "102    5.9\n",
       "103    5.6\n",
       "104    5.8\n",
       "Name: PetalLengthCm, dtype: float64"
      ]
     },
     "execution_count": 45,
     "metadata": {},
     "output_type": "execute_result"
    }
   ],
   "source": [
    "print(set(iris['Species']))\n",
    "print(iris.head())\n",
    "iris[iris['Species'] == 'Iris-virginica']['PetalLengthCm'].head()"
   ]
  },
  {
   "cell_type": "code",
   "execution_count": 46,
   "id": "8bd2d005",
   "metadata": {},
   "outputs": [
    {
     "data": {
      "image/png": "[encoded data removed]",
      "text/plain": [
       "<Figure size 432x288 with 1 Axes>"
      ]
     },
     "metadata": {},
     "output_type": "display_data"
    }
   ],
   "source": [
    "setosa_petal_length = iris[iris['Species'] == 'Iris-setosa']['PetalLengthCm']\n",
    "versicolor_petal_length = iris[iris['Species'] == 'Iris-versicolor']['PetalLengthCm']\n",
    "virginica_petal_length = iris[iris['Species'] == 'Iris-virginica']['PetalLengthCm']\n",
    "\n",
    "# Compute ECDFs\n",
    "x_set, y_set = ecdf(setosa_petal_length)\n",
    "x_vers, y_vers = ecdf(versicolor_petal_length)\n",
    "x_virg, y_virg = ecdf(virginica_petal_length)\n",
    "\n",
    "\n",
    "# Plot all ECDFs on the same plot\n",
    "_ = plt.plot(x_set, y_set, marker='.', linestyle='none')\n",
    "_ = plt.plot(x_vers, y_vers, marker='.', linestyle='none')\n",
    "_ = plt.plot(x_virg, y_virg, marker='.', linestyle='none')\n",
    "\n",
    "\n",
    "# Annotate the plot\n",
    "plt.legend(('setosa', 'versicolor', 'virginica'), loc='lower right')\n",
    "_ = plt.xlabel('petal length (cm)')\n",
    "_ = plt.ylabel('ECDF')\n",
    "\n",
    "# Display the plot\n",
    "plt.show()"
   ]
  },
  {
   "cell_type": "markdown",
   "id": "965f8d2e",
   "metadata": {},
   "source": [
    "# Practice : elections Obama"
   ]
  },
  {
   "cell_type": "code",
   "execution_count": 47,
   "id": "2364068e",
   "metadata": {},
   "outputs": [
    {
     "data": {
      "text/html": [
       "<div>\n",
       "<style scoped>\n",
       "    .dataframe tbody tr th:only-of-type {\n",
       "        vertical-align: middle;\n",
       "    }\n",
       "\n",
       "    .dataframe tbody tr th {\n",
       "        vertical-align: top;\n",
       "    }\n",
       "\n",
       "    .dataframe thead th {\n",
       "        text-align: right;\n",
       "    }\n",
       "</style>\n",
       "<table border=\"1\" class=\"dataframe\">\n",
       "  <thead>\n",
       "    <tr style=\"text-align: right;\">\n",
       "      <th></th>\n",
       "      <th>state</th>\n",
       "      <th>county</th>\n",
       "      <th>total_votes</th>\n",
       "      <th>dem_votes</th>\n",
       "      <th>rep_votes</th>\n",
       "      <th>other_votes</th>\n",
       "      <th>dem_share</th>\n",
       "      <th>east_west</th>\n",
       "    </tr>\n",
       "  </thead>\n",
       "  <tbody>\n",
       "    <tr>\n",
       "      <th>0</th>\n",
       "      <td>AK</td>\n",
       "      <td>State House District 8, Denali-University</td>\n",
       "      <td>10320</td>\n",
       "      <td>4995</td>\n",
       "      <td>4983</td>\n",
       "      <td>342</td>\n",
       "      <td>50.06</td>\n",
       "      <td>west</td>\n",
       "    </tr>\n",
       "    <tr>\n",
       "      <th>1</th>\n",
       "      <td>AK</td>\n",
       "      <td>State House District 37, Bristol Bay-Aleuti</td>\n",
       "      <td>4665</td>\n",
       "      <td>1868</td>\n",
       "      <td>2661</td>\n",
       "      <td>136</td>\n",
       "      <td>41.24</td>\n",
       "      <td>west</td>\n",
       "    </tr>\n",
       "    <tr>\n",
       "      <th>2</th>\n",
       "      <td>AK</td>\n",
       "      <td>State House District 12, Richardson-Glenn H</td>\n",
       "      <td>7589</td>\n",
       "      <td>1914</td>\n",
       "      <td>5467</td>\n",
       "      <td>208</td>\n",
       "      <td>25.93</td>\n",
       "      <td>west</td>\n",
       "    </tr>\n",
       "    <tr>\n",
       "      <th>3</th>\n",
       "      <td>AK</td>\n",
       "      <td>State House District 13, Greater Palmer</td>\n",
       "      <td>11526</td>\n",
       "      <td>2800</td>\n",
       "      <td>8432</td>\n",
       "      <td>294</td>\n",
       "      <td>24.93</td>\n",
       "      <td>west</td>\n",
       "    </tr>\n",
       "    <tr>\n",
       "      <th>4</th>\n",
       "      <td>AK</td>\n",
       "      <td>State House District 14, Greater Wasilla</td>\n",
       "      <td>10456</td>\n",
       "      <td>2132</td>\n",
       "      <td>8108</td>\n",
       "      <td>216</td>\n",
       "      <td>20.82</td>\n",
       "      <td>west</td>\n",
       "    </tr>\n",
       "  </tbody>\n",
       "</table>\n",
       "</div>"
      ],
      "text/plain": [
       "  state                                       county  total_votes  dem_votes  \\\n",
       "0    AK    State House District 8, Denali-University        10320       4995   \n",
       "1    AK  State House District 37, Bristol Bay-Aleuti         4665       1868   \n",
       "2    AK  State House District 12, Richardson-Glenn H         7589       1914   \n",
       "3    AK      State House District 13, Greater Palmer        11526       2800   \n",
       "4    AK     State House District 14, Greater Wasilla        10456       2132   \n",
       "\n",
       "   rep_votes  other_votes  dem_share east_west  \n",
       "0       4983          342      50.06      west  \n",
       "1       2661          136      41.24      west  \n",
       "2       5467          208      25.93      west  \n",
       "3       8432          294      24.93      west  \n",
       "4       8108          216      20.82      west  "
      ]
     },
     "execution_count": 47,
     "metadata": {},
     "output_type": "execute_result"
    }
   ],
   "source": [
    "elections = pd.read_csv('2008_all_states.csv')\n",
    "elections.head()"
   ]
  },
  {
   "cell_type": "code",
   "execution_count": 48,
   "id": "b7211cb1",
   "metadata": {},
   "outputs": [
    {
     "name": "stdout",
     "output_type": "stream",
     "text": [
      "(3153, 8)\n",
      "{'AR', 'TX', 'ND', 'NE', 'FL', 'NH', 'IL', 'PA', 'DC', 'AL', 'HI', 'KS', 'MT', 'IN', 'OK', 'MI', 'LA', 'OR', 'CT', 'KY', 'NJ', 'MO', 'WA', 'MS', 'ID', 'RI', 'UT', 'SD', 'IA', 'MN', 'NV', 'SC', 'WY', 'WV', 'MD', 'TN', 'NY', 'ME', 'CA', 'NC', 'NM', 'AK', 'VA', 'DE', 'WI', 'OH', 'AZ', 'GA', 'CO', 'VT', 'MA'}\n",
      "1886\n",
      "{'west', 'east'}\n"
     ]
    },
    {
     "data": {
      "text/plain": [
       "0    10320\n",
       "1     4665\n",
       "2     7589\n",
       "3    11526\n",
       "4    10456\n",
       "dtype: int64"
      ]
     },
     "execution_count": 48,
     "metadata": {},
     "output_type": "execute_result"
    }
   ],
   "source": [
    "print(elections.shape)\n",
    "print(set(elections['state']))\n",
    "print(len(set(elections['county'])))\n",
    "print(set(elections.east_west))\n",
    "\n",
    "# total_votes = dem_votes + rep_votes + other_votes\n",
    "(elections['dem_votes'] + elections['rep_votes'] + elections['other_votes']).head()"
   ]
  },
  {
   "cell_type": "markdown",
   "id": "1cb336e0",
   "metadata": {},
   "source": [
    "# 1. Histograme"
   ]
  },
  {
   "cell_type": "markdown",
   "id": "f5d9d9ec",
   "metadata": {},
   "source": [
    "### Comparing the total votes for each county"
   ]
  },
  {
   "cell_type": "code",
   "execution_count": 49,
   "id": "2cf8f120",
   "metadata": {},
   "outputs": [
    {
     "data": {
      "text/html": [
       "<div>\n",
       "<style scoped>\n",
       "    .dataframe tbody tr th:only-of-type {\n",
       "        vertical-align: middle;\n",
       "    }\n",
       "\n",
       "    .dataframe tbody tr th {\n",
       "        vertical-align: top;\n",
       "    }\n",
       "\n",
       "    .dataframe thead th {\n",
       "        text-align: right;\n",
       "    }\n",
       "</style>\n",
       "<table border=\"1\" class=\"dataframe\">\n",
       "  <thead>\n",
       "    <tr style=\"text-align: right;\">\n",
       "      <th></th>\n",
       "      <th>state</th>\n",
       "      <th>county</th>\n",
       "      <th>total_votes</th>\n",
       "      <th>dem_votes</th>\n",
       "      <th>rep_votes</th>\n",
       "      <th>other_votes</th>\n",
       "      <th>dem_share</th>\n",
       "      <th>east_west</th>\n",
       "    </tr>\n",
       "  </thead>\n",
       "  <tbody>\n",
       "    <tr>\n",
       "      <th>2372</th>\n",
       "      <td>CA</td>\n",
       "      <td>Los Angeles County</td>\n",
       "      <td>3318248</td>\n",
       "      <td>2295853</td>\n",
       "      <td>956425</td>\n",
       "      <td>65970</td>\n",
       "      <td>70.61</td>\n",
       "      <td>west</td>\n",
       "    </tr>\n",
       "    <tr>\n",
       "      <th>2507</th>\n",
       "      <td>AZ</td>\n",
       "      <td>Maricopa County</td>\n",
       "      <td>1364962</td>\n",
       "      <td>602166</td>\n",
       "      <td>746448</td>\n",
       "      <td>16348</td>\n",
       "      <td>44.64</td>\n",
       "      <td>west</td>\n",
       "    </tr>\n",
       "    <tr>\n",
       "      <th>2527</th>\n",
       "      <td>CA</td>\n",
       "      <td>Orange County</td>\n",
       "      <td>1153687</td>\n",
       "      <td>549558</td>\n",
       "      <td>579064</td>\n",
       "      <td>25065</td>\n",
       "      <td>48.67</td>\n",
       "      <td>west</td>\n",
       "    </tr>\n",
       "    <tr>\n",
       "      <th>3031</th>\n",
       "      <td>TX</td>\n",
       "      <td>Harris County</td>\n",
       "      <td>1171472</td>\n",
       "      <td>590982</td>\n",
       "      <td>571883</td>\n",
       "      <td>8607</td>\n",
       "      <td>50.82</td>\n",
       "      <td>west</td>\n",
       "    </tr>\n",
       "    <tr>\n",
       "      <th>2589</th>\n",
       "      <td>CA</td>\n",
       "      <td>San Diego County</td>\n",
       "      <td>1231047</td>\n",
       "      <td>666581</td>\n",
       "      <td>541032</td>\n",
       "      <td>23434</td>\n",
       "      <td>55.20</td>\n",
       "      <td>west</td>\n",
       "    </tr>\n",
       "    <tr>\n",
       "      <th>771</th>\n",
       "      <td>IL</td>\n",
       "      <td>Cook County</td>\n",
       "      <td>2137466</td>\n",
       "      <td>1629024</td>\n",
       "      <td>487736</td>\n",
       "      <td>20706</td>\n",
       "      <td>76.96</td>\n",
       "      <td>east</td>\n",
       "    </tr>\n",
       "    <tr>\n",
       "      <th>3134</th>\n",
       "      <td>FL</td>\n",
       "      <td>Miami-Dade County</td>\n",
       "      <td>863486</td>\n",
       "      <td>499831</td>\n",
       "      <td>360551</td>\n",
       "      <td>3104</td>\n",
       "      <td>58.09</td>\n",
       "      <td>east</td>\n",
       "    </tr>\n",
       "    <tr>\n",
       "      <th>2677</th>\n",
       "      <td>TX</td>\n",
       "      <td>Tarrant County</td>\n",
       "      <td>628553</td>\n",
       "      <td>274880</td>\n",
       "      <td>348420</td>\n",
       "      <td>5253</td>\n",
       "      <td>44.10</td>\n",
       "      <td>west</td>\n",
       "    </tr>\n",
       "    <tr>\n",
       "      <th>2499</th>\n",
       "      <td>CA</td>\n",
       "      <td>Riverside County</td>\n",
       "      <td>647299</td>\n",
       "      <td>325017</td>\n",
       "      <td>310041</td>\n",
       "      <td>12241</td>\n",
       "      <td>51.17</td>\n",
       "      <td>west</td>\n",
       "    </tr>\n",
       "    <tr>\n",
       "      <th>2678</th>\n",
       "      <td>TX</td>\n",
       "      <td>Dallas County</td>\n",
       "      <td>738463</td>\n",
       "      <td>422989</td>\n",
       "      <td>310000</td>\n",
       "      <td>5474</td>\n",
       "      <td>57.71</td>\n",
       "      <td>west</td>\n",
       "    </tr>\n",
       "    <tr>\n",
       "      <th>943</th>\n",
       "      <td>NY</td>\n",
       "      <td>Suffolk County</td>\n",
       "      <td>659779</td>\n",
       "      <td>346549</td>\n",
       "      <td>307021</td>\n",
       "      <td>6209</td>\n",
       "      <td>53.03</td>\n",
       "      <td>east</td>\n",
       "    </tr>\n",
       "    <tr>\n",
       "      <th>1036</th>\n",
       "      <td>NY</td>\n",
       "      <td>Nassau County</td>\n",
       "      <td>635618</td>\n",
       "      <td>342185</td>\n",
       "      <td>288776</td>\n",
       "      <td>4657</td>\n",
       "      <td>54.24</td>\n",
       "      <td>east</td>\n",
       "    </tr>\n",
       "    <tr>\n",
       "      <th>2198</th>\n",
       "      <td>CA</td>\n",
       "      <td>San Bernardino County</td>\n",
       "      <td>606334</td>\n",
       "      <td>315720</td>\n",
       "      <td>277408</td>\n",
       "      <td>13206</td>\n",
       "      <td>53.22</td>\n",
       "      <td>west</td>\n",
       "    </tr>\n",
       "    <tr>\n",
       "      <th>668</th>\n",
       "      <td>MI</td>\n",
       "      <td>Oakland County</td>\n",
       "      <td>659068</td>\n",
       "      <td>372566</td>\n",
       "      <td>276956</td>\n",
       "      <td>9546</td>\n",
       "      <td>57.36</td>\n",
       "      <td>east</td>\n",
       "    </tr>\n",
       "    <tr>\n",
       "      <th>1094</th>\n",
       "      <td>PA</td>\n",
       "      <td>Allegheny County</td>\n",
       "      <td>651436</td>\n",
       "      <td>373153</td>\n",
       "      <td>272347</td>\n",
       "      <td>5936</td>\n",
       "      <td>57.81</td>\n",
       "      <td>east</td>\n",
       "    </tr>\n",
       "    <tr>\n",
       "      <th>123</th>\n",
       "      <td>WA</td>\n",
       "      <td>King County</td>\n",
       "      <td>922032</td>\n",
       "      <td>648230</td>\n",
       "      <td>259716</td>\n",
       "      <td>14086</td>\n",
       "      <td>71.39</td>\n",
       "      <td>west</td>\n",
       "    </tr>\n",
       "    <tr>\n",
       "      <th>1994</th>\n",
       "      <td>NV</td>\n",
       "      <td>Clark County</td>\n",
       "      <td>647490</td>\n",
       "      <td>380765</td>\n",
       "      <td>257078</td>\n",
       "      <td>9647</td>\n",
       "      <td>59.70</td>\n",
       "      <td>west</td>\n",
       "    </tr>\n",
       "    <tr>\n",
       "      <th>3061</th>\n",
       "      <td>TX</td>\n",
       "      <td>Bexar County</td>\n",
       "      <td>525715</td>\n",
       "      <td>275527</td>\n",
       "      <td>246275</td>\n",
       "      <td>3913</td>\n",
       "      <td>52.80</td>\n",
       "      <td>west</td>\n",
       "    </tr>\n",
       "    <tr>\n",
       "      <th>695</th>\n",
       "      <td>MA</td>\n",
       "      <td>Middlesex County</td>\n",
       "      <td>726031</td>\n",
       "      <td>464484</td>\n",
       "      <td>245766</td>\n",
       "      <td>15781</td>\n",
       "      <td>65.40</td>\n",
       "      <td>east</td>\n",
       "    </tr>\n",
       "    <tr>\n",
       "      <th>3133</th>\n",
       "      <td>FL</td>\n",
       "      <td>Broward County</td>\n",
       "      <td>733899</td>\n",
       "      <td>492640</td>\n",
       "      <td>237729</td>\n",
       "      <td>3530</td>\n",
       "      <td>67.45</td>\n",
       "      <td>east</td>\n",
       "    </tr>\n",
       "  </tbody>\n",
       "</table>\n",
       "</div>"
      ],
      "text/plain": [
       "     state                 county  total_votes  dem_votes  rep_votes  \\\n",
       "2372    CA     Los Angeles County      3318248    2295853     956425   \n",
       "2507    AZ        Maricopa County      1364962     602166     746448   \n",
       "2527    CA          Orange County      1153687     549558     579064   \n",
       "3031    TX          Harris County      1171472     590982     571883   \n",
       "2589    CA       San Diego County      1231047     666581     541032   \n",
       "771     IL            Cook County      2137466    1629024     487736   \n",
       "3134    FL      Miami-Dade County       863486     499831     360551   \n",
       "2677    TX         Tarrant County       628553     274880     348420   \n",
       "2499    CA       Riverside County       647299     325017     310041   \n",
       "2678    TX          Dallas County       738463     422989     310000   \n",
       "943     NY         Suffolk County       659779     346549     307021   \n",
       "1036    NY          Nassau County       635618     342185     288776   \n",
       "2198    CA  San Bernardino County       606334     315720     277408   \n",
       "668     MI         Oakland County       659068     372566     276956   \n",
       "1094    PA       Allegheny County       651436     373153     272347   \n",
       "123     WA            King County       922032     648230     259716   \n",
       "1994    NV           Clark County       647490     380765     257078   \n",
       "3061    TX           Bexar County       525715     275527     246275   \n",
       "695     MA       Middlesex County       726031     464484     245766   \n",
       "3133    FL         Broward County       733899     492640     237729   \n",
       "\n",
       "      other_votes  dem_share east_west  \n",
       "2372        65970      70.61      west  \n",
       "2507        16348      44.64      west  \n",
       "2527        25065      48.67      west  \n",
       "3031         8607      50.82      west  \n",
       "2589        23434      55.20      west  \n",
       "771         20706      76.96      east  \n",
       "3134         3104      58.09      east  \n",
       "2677         5253      44.10      west  \n",
       "2499        12241      51.17      west  \n",
       "2678         5474      57.71      west  \n",
       "943          6209      53.03      east  \n",
       "1036         4657      54.24      east  \n",
       "2198        13206      53.22      west  \n",
       "668          9546      57.36      east  \n",
       "1094         5936      57.81      east  \n",
       "123         14086      71.39      west  \n",
       "1994         9647      59.70      west  \n",
       "3061         3913      52.80      west  \n",
       "695         15781      65.40      east  \n",
       "3133         3530      67.45      east  "
      ]
     },
     "execution_count": 49,
     "metadata": {},
     "output_type": "execute_result"
    }
   ],
   "source": [
    "max_20_elect = elections.sort_values(by ='rep_votes', ascending=False).head(20)\n",
    "max_20_elect"
   ]
  },
  {
   "cell_type": "code",
   "execution_count": 50,
   "id": "49d1f57d",
   "metadata": {},
   "outputs": [
    {
     "data": {
      "text/plain": [
       "(array([12.,  2.,  3.,  1.,  0.,  1.,  0.,  0.,  0.,  1.]),\n",
       " array([ 525715. ,  804968.3, 1084221.6, 1363474.9, 1642728.2, 1921981.5,\n",
       "        2201234.8, 2480488.1, 2759741.4, 3038994.7, 3318248. ]),\n",
       " <BarContainer object of 10 artists>)"
      ]
     },
     "execution_count": 50,
     "metadata": {},
     "output_type": "execute_result"
    },
    {
     "data": {
      "image/png": "[encoded data removed]",
      "text/plain": [
       "<Figure size 432x288 with 1 Axes>"
      ]
     },
     "metadata": {},
     "output_type": "display_data"
    }
   ],
   "source": [
    "county = max_20_elect['county']\n",
    "total_votes = max_20_elect['total_votes']\n",
    "\n",
    "plt.hist(total_votes)"
   ]
  },
  {
   "cell_type": "code",
   "execution_count": 51,
   "id": "cd29c666",
   "metadata": {},
   "outputs": [
    {
     "data": {
      "text/html": [
       "<div>\n",
       "<style scoped>\n",
       "    .dataframe tbody tr th:only-of-type {\n",
       "        vertical-align: middle;\n",
       "    }\n",
       "\n",
       "    .dataframe tbody tr th {\n",
       "        vertical-align: top;\n",
       "    }\n",
       "\n",
       "    .dataframe thead th {\n",
       "        text-align: right;\n",
       "    }\n",
       "</style>\n",
       "<table border=\"1\" class=\"dataframe\">\n",
       "  <thead>\n",
       "    <tr style=\"text-align: right;\">\n",
       "      <th></th>\n",
       "      <th>Id</th>\n",
       "      <th>SepalLengthCm</th>\n",
       "      <th>SepalWidthCm</th>\n",
       "      <th>PetalLengthCm</th>\n",
       "      <th>PetalWidthCm</th>\n",
       "      <th>Species</th>\n",
       "    </tr>\n",
       "  </thead>\n",
       "  <tbody>\n",
       "    <tr>\n",
       "      <th>0</th>\n",
       "      <td>1</td>\n",
       "      <td>5.1</td>\n",
       "      <td>3.5</td>\n",
       "      <td>1.4</td>\n",
       "      <td>0.2</td>\n",
       "      <td>Iris-setosa</td>\n",
       "    </tr>\n",
       "    <tr>\n",
       "      <th>1</th>\n",
       "      <td>2</td>\n",
       "      <td>4.9</td>\n",
       "      <td>3.0</td>\n",
       "      <td>1.4</td>\n",
       "      <td>0.2</td>\n",
       "      <td>Iris-setosa</td>\n",
       "    </tr>\n",
       "    <tr>\n",
       "      <th>2</th>\n",
       "      <td>3</td>\n",
       "      <td>4.7</td>\n",
       "      <td>3.2</td>\n",
       "      <td>1.3</td>\n",
       "      <td>0.2</td>\n",
       "      <td>Iris-setosa</td>\n",
       "    </tr>\n",
       "    <tr>\n",
       "      <th>3</th>\n",
       "      <td>4</td>\n",
       "      <td>4.6</td>\n",
       "      <td>3.1</td>\n",
       "      <td>1.5</td>\n",
       "      <td>0.2</td>\n",
       "      <td>Iris-setosa</td>\n",
       "    </tr>\n",
       "    <tr>\n",
       "      <th>4</th>\n",
       "      <td>5</td>\n",
       "      <td>5.0</td>\n",
       "      <td>3.6</td>\n",
       "      <td>1.4</td>\n",
       "      <td>0.2</td>\n",
       "      <td>Iris-setosa</td>\n",
       "    </tr>\n",
       "    <tr>\n",
       "      <th>...</th>\n",
       "      <td>...</td>\n",
       "      <td>...</td>\n",
       "      <td>...</td>\n",
       "      <td>...</td>\n",
       "      <td>...</td>\n",
       "      <td>...</td>\n",
       "    </tr>\n",
       "    <tr>\n",
       "      <th>145</th>\n",
       "      <td>146</td>\n",
       "      <td>6.7</td>\n",
       "      <td>3.0</td>\n",
       "      <td>5.2</td>\n",
       "      <td>2.3</td>\n",
       "      <td>Iris-virginica</td>\n",
       "    </tr>\n",
       "    <tr>\n",
       "      <th>146</th>\n",
       "      <td>147</td>\n",
       "      <td>6.3</td>\n",
       "      <td>2.5</td>\n",
       "      <td>5.0</td>\n",
       "      <td>1.9</td>\n",
       "      <td>Iris-virginica</td>\n",
       "    </tr>\n",
       "    <tr>\n",
       "      <th>147</th>\n",
       "      <td>148</td>\n",
       "      <td>6.5</td>\n",
       "      <td>3.0</td>\n",
       "      <td>5.2</td>\n",
       "      <td>2.0</td>\n",
       "      <td>Iris-virginica</td>\n",
       "    </tr>\n",
       "    <tr>\n",
       "      <th>148</th>\n",
       "      <td>149</td>\n",
       "      <td>6.2</td>\n",
       "      <td>3.4</td>\n",
       "      <td>5.4</td>\n",
       "      <td>2.3</td>\n",
       "      <td>Iris-virginica</td>\n",
       "    </tr>\n",
       "    <tr>\n",
       "      <th>149</th>\n",
       "      <td>150</td>\n",
       "      <td>5.9</td>\n",
       "      <td>3.0</td>\n",
       "      <td>5.1</td>\n",
       "      <td>1.8</td>\n",
       "      <td>Iris-virginica</td>\n",
       "    </tr>\n",
       "  </tbody>\n",
       "</table>\n",
       "<p>150 rows × 6 columns</p>\n",
       "</div>"
      ],
      "text/plain": [
       "      Id  SepalLengthCm  SepalWidthCm  PetalLengthCm  PetalWidthCm  \\\n",
       "0      1            5.1           3.5            1.4           0.2   \n",
       "1      2            4.9           3.0            1.4           0.2   \n",
       "2      3            4.7           3.2            1.3           0.2   \n",
       "3      4            4.6           3.1            1.5           0.2   \n",
       "4      5            5.0           3.6            1.4           0.2   \n",
       "..   ...            ...           ...            ...           ...   \n",
       "145  146            6.7           3.0            5.2           2.3   \n",
       "146  147            6.3           2.5            5.0           1.9   \n",
       "147  148            6.5           3.0            5.2           2.0   \n",
       "148  149            6.2           3.4            5.4           2.3   \n",
       "149  150            5.9           3.0            5.1           1.8   \n",
       "\n",
       "            Species  \n",
       "0       Iris-setosa  \n",
       "1       Iris-setosa  \n",
       "2       Iris-setosa  \n",
       "3       Iris-setosa  \n",
       "4       Iris-setosa  \n",
       "..              ...  \n",
       "145  Iris-virginica  \n",
       "146  Iris-virginica  \n",
       "147  Iris-virginica  \n",
       "148  Iris-virginica  \n",
       "149  Iris-virginica  \n",
       "\n",
       "[150 rows x 6 columns]"
      ]
     },
     "execution_count": 51,
     "metadata": {},
     "output_type": "execute_result"
    }
   ],
   "source": [
    "iris"
   ]
  },
  {
   "cell_type": "code",
   "execution_count": 52,
   "id": "0981e372",
   "metadata": {},
   "outputs": [
    {
     "name": "stdout",
     "output_type": "stream",
     "text": [
      "{'Iris-versicolor', 'Iris-setosa', 'Iris-virginica'}\n"
     ]
    }
   ],
   "source": [
    "print(set(iris.Species))"
   ]
  },
  {
   "cell_type": "code",
   "execution_count": 72,
   "id": "43f52103",
   "metadata": {},
   "outputs": [],
   "source": [
    "versicolor_sepal_length = iris[iris['Species'] == 'Iris-versicolor']['SepalLengthCm']"
   ]
  },
  {
   "cell_type": "code",
   "execution_count": 64,
   "id": "a77375db",
   "metadata": {},
   "outputs": [
    {
     "name": "stdout",
     "output_type": "stream",
     "text": [
      "7\n"
     ]
    },
    {
     "data": {
      "image/png": "[encoded data removed]",
      "text/plain": [
       "<Figure size 432x288 with 1 Axes>"
      ]
     },
     "metadata": {},
     "output_type": "display_data"
    }
   ],
   "source": [
    "# bins\n",
    "n_data = len(versicolor_sepal_length)\n",
    "n_bins = np.sqrt(n_data)\n",
    "n_bins = int(n_bins)\n",
    "print(n_bins)\n",
    "\n",
    "plt.hist(versicolor_sepal_length, bins=n_bins)\n",
    "\n",
    "# labels\n",
    "plt.xlabel('Sepal Length Cm')\n",
    "plt.ylabel('Count')\n",
    "\n",
    "plt.show()"
   ]
  },
  {
   "cell_type": "markdown",
   "id": "def3becb",
   "metadata": {},
   "source": [
    "### Compare the Sepal Length of the tree Species"
   ]
  },
  {
   "cell_type": "code",
   "execution_count": 75,
   "id": "752ed8c6",
   "metadata": {},
   "outputs": [
    {
     "name": "stdout",
     "output_type": "stream",
     "text": [
      "['Iris-versicolor', 'Iris-setosa', 'Iris-virginica']\n"
     ]
    },
    {
     "data": {
      "text/plain": [
       "50    7.0\n",
       "51    6.4\n",
       "52    6.9\n",
       "53    5.5\n",
       "54    6.5\n",
       "55    5.7\n",
       "56    6.3\n",
       "57    4.9\n",
       "58    6.6\n",
       "59    5.2\n",
       "60    5.0\n",
       "61    5.9\n",
       "62    6.0\n",
       "63    6.1\n",
       "64    5.6\n",
       "65    6.7\n",
       "66    5.6\n",
       "67    5.8\n",
       "68    6.2\n",
       "69    5.6\n",
       "70    5.9\n",
       "71    6.1\n",
       "72    6.3\n",
       "73    6.1\n",
       "74    6.4\n",
       "75    6.6\n",
       "76    6.8\n",
       "77    6.7\n",
       "78    6.0\n",
       "79    5.7\n",
       "80    5.5\n",
       "81    5.5\n",
       "82    5.8\n",
       "83    6.0\n",
       "84    5.4\n",
       "85    6.0\n",
       "86    6.7\n",
       "87    6.3\n",
       "88    5.6\n",
       "89    5.5\n",
       "90    5.5\n",
       "91    6.1\n",
       "92    5.8\n",
       "93    5.0\n",
       "94    5.6\n",
       "95    5.7\n",
       "96    5.7\n",
       "97    6.2\n",
       "98    5.1\n",
       "99    5.7\n",
       "Name: SepalLengthCm, dtype: float64"
      ]
     },
     "execution_count": 75,
     "metadata": {},
     "output_type": "execute_result"
    }
   ],
   "source": [
    "species = list(set(iris['Species']))\n",
    "\n",
    "versicolor_sepal_length = iris[iris['Species'] == 'Iris-versicolor']['SepalLengthCm']\n",
    "setosa_sepal_length = iris[iris['Species'] == 'Iris-setosa']['SepalLengthCm']\n",
    "virginica_sepal_length = iris[iris['Species'] == 'Iris-virginica']['SepalLengthCm']\n",
    "\n",
    "print(species)\n",
    "versicolor_sepal_length"
   ]
  },
  {
   "cell_type": "code",
   "execution_count": null,
   "id": "232613b6",
   "metadata": {},
   "outputs": [],
   "source": []
  }
 ],
 "metadata": {
  "kernelspec": {
   "display_name": "Python 3 (ipykernel)",
   "language": "python",
   "name": "python3"
  },
  "language_info": {
   "codemirror_mode": {
    "name": "ipython",
    "version": 3
   },
   "file_extension": ".py",
   "mimetype": "text/x-python",
   "name": "python",
   "nbconvert_exporter": "python",
   "pygments_lexer": "ipython3",
   "version": "3.9.12"
  }
 },
 "nbformat": 4,
 "nbformat_minor": 5
}
